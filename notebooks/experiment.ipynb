{
 "cells": [
  {
   "cell_type": "markdown",
   "metadata": {},
   "source": [
    "Experiment:\n",
    "\n",
    "Life.nlogo is a model distributed with Netlogo that encapsulates Conwayʻs Game of Life, traditionally a well-known 2-dimensional "
   ]
  },
  {
   "cell_type": "code",
   "execution_count": null,
   "metadata": {},
   "outputs": [],
   "source": [
    "import pandas as pd\n",
    "\n",
    "csv_file = \"Life-Wide-ON-table.csv\"\n",
    "\n",
    "# read datafram in but skip 6 rows of headers\n",
    "df = pd.read_csv(csv_file, skiprows=6)\n",
    "\n",
    "param_of_interest = \"farm_cost\"\n",
    "\n",
    "currency_cols = [\"count_households\",\"mean_fission_rate\",\"mean_farm_dist\",\"mean_min_fertility\",\"mean_move_threshold\",\"mean_vegetation\"]\n",
    "\n",
    "# print(df.head())  # note that this is now ALL STEPS. we donʻt want that.\n",
    "\n",
    "# letʻs create a new df_finals with only the row with the largest value for `step` for each run\n",
    "# a run is really defined by the combination of all the param_of_interest and the run-number\n",
    "# just for my benefit weʻll create an \"index\" column that is a composite of the params_of_interest and the run-number joined by \"_\"\n",
    "# this is a little nasty.\n",
    "comp_cols = [param_of_interest, 'run_number']\n",
    "df_finals = df.loc[df.groupby(comp_cols)['step'].idxmax()]\n",
    "df_finals['index'] = df_finals[comp_cols].apply(lambda x: '_'.join(x.astype(str)), axis=1)\n",
    "#print(df_finals.shape)  # should be 10800,something (22ish)\n",
    "# print(df_finals.head())\n",
    "\n",
    "print(f\"\\n\\n=== Statistics grouped by {param_of_interest} ===\")\n",
    "grouped = df_finals.groupby(param_of_interest)\n",
    "# now each currency, and we just use pandas describe()\n",
    "for currency in currency_cols:\n",
    "    print(f\"\\n-- {currency} --\")\n",
    "    stats = grouped[currency].describe()\n",
    "    print(stats)"
   ]
  }
 ],
 "metadata": {
  "language_info": {
   "name": "python"
  }
 },
 "nbformat": 4,
 "nbformat_minor": 2
}
