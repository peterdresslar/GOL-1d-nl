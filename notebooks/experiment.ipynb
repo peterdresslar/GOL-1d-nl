{
 "cells": [
  {
   "cell_type": "markdown",
   "metadata": {},
   "source": [
    "Experiment:\n",
    "\n",
    "Life.nlogo is a model distributed with Netlogo that encapsulates Conwayʻs Game of Life, traditionally a well-known 2-dimensional "
   ]
  }
 ],
 "metadata": {
  "language_info": {
   "name": "python"
  }
 },
 "nbformat": 4,
 "nbformat_minor": 2
}
