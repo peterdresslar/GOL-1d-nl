{
 "cells": [
  {
   "cell_type": "markdown",
   "metadata": {},
   "source": [
    "# Proposal\n",
    "\n",
    "Peter Dresslar, CAS 520, Spring 2025-b\n",
    "*version 0.1.0*\n",
    "\n",
    "I propose to explore the simulation of the well-known two-dimensional cellular automaton (CA), Conwayʻs Game of Life (herein, 2D-GOL), using a single dimensional cellular automaton (herein, 1D-GOL.) I will modify the NetLogo version of the model, use pynetlogo to explore the outcomes in a Jupyter Notebook, and finally rebuild the project in Julia.\n",
    "\n",
    "During the project, I will research the following conjecture: Owing to the way they interface with discrete time, bounded deterministic 2D CA are a class of CA with a special connection to 1D CA. For any deterministic 2D CA on a finite grid (with bounded x and y dimensions) and state space S, there exists either an individual or a family of 1D CA with the same state space S that will simulate its (their) behavior through appropriate encoding and neighborhood function. While multiple such 1D representations may exist, the families mentioned seem likely to all preserve the same transition logic (predicate algebra) of the original 2D automaton. \n",
    "\n",
    "Research questions I will consider may include:\n",
    "\n",
    "1. What emergent patterns form in 1D-GOL, and in what way are they related to the many well-known phenomena of 2D-GOL. For example, will the well-known glider patter work in 1D-GOL?\n",
    "\n",
    "2. Are complexity metrics (including but not limited to entropy) equivalent for 2D and 1D CA (or for two \"runs\", using the same starting seeds, of the CA)?\n",
    "\n",
    "3. When a large number of 1D-GOL runs are gathered and stored, what novel data analysis techniques can be employed, in particular concerning patterns across \"bundles\" of runs?\n",
    "\n",
    "4. What are the practical computational advantages of processing 1D-GOL at scale versus 2D-GOL at scale, if any?\n",
    "\n",
    "I will be interested in feedback on these questions in particular.\n",
    "\n",
    "For the project I propose to deliver the following artifacts:\n",
    "\n",
    "- A NetLogo model that modifies the `Life.nlogo` model from the examples library to visually communicate the concept for the class and other interested parties. \n",
    "- A Julia implementation, aimed at high performance execution \n",
    "- An project summary in the form of a python notebook. This summary will contain formal citations.\n",
    "- If time permits, a large corpus of model runs. Size TBD.\n",
    "- If conditions warrant, a formal research proposal.\n",
    "\n",
    "## Progress\n",
    "\n",
    "My approach to implementation is described in fairly broad terms in `idea.ipynb`. \n",
    "\n",
    "I have already started on the Netlogo model and have a working prototype. I broke it when I tried to make the windows resize. I started out by preserving the structures of the original 2D-GOL (NetLogoʻs Life model), but a refactor is likely warranted for additional experimental facility.\n",
    "\n",
    "## Real-world applicability \n",
    "\n",
    "- GOL and other CA are mentioned in an increasing number of applications, connected in some cases to image processing and artificial intelligence. \n",
    "\n",
    "- Optimizations of CA in this matter should be possible for many other models, and it might be worth considering other dimensional shifts.\n",
    "\n",
    "- A large dataset of GOL runs is something that I have a personal research need for.\n",
    "\n",
    "## Notes\n",
    "\n",
    "- It might be noted that Conwayʻs GOL is celebrating a major anniversary this year.\n",
    "\n",
    "- I would welcome collaboration from anyone in the class interested in contributing.\n",
    "\n"
   ]
  }
 ],
 "metadata": {
  "language_info": {
   "name": "python"
  }
 },
 "nbformat": 4,
 "nbformat_minor": 2
}
