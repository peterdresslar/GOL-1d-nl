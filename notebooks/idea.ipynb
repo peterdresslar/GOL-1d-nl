{
 "cells": [
  {
   "cell_type": "markdown",
   "metadata": {},
   "source": [
    "Idea: For all deterministic 2D cellular automata in bounded rational space with (e.g., finite x and y dimensions) with set of states S, there can be constructed a corresponding 1D cellular automaton with the same S.\n",
    "\n",
    "This was just my initial idea. Best to treat this as pseudo code.\n",
    "\n",
    "the important part:\n",
    "\n",
    "```py\n",
    "            # find \"neighborhood\" from step prior. We can do this as strips since we are working in 1d\n",
    "\n",
    "            top3_prior_pos = [n - t - x - 1, n - t - x, n - t - x + 1]\n",
    "            middle2_prior_pos = [n - t - 1, n - t + 1 ]\n",
    "            bottom3_prior_pos = [n - t + x - 1, n - t + x, n - t + x + 1]\n",
    "\n",
    "            # Filter out invalid positions, this also seems a lot\n",
    "            valid_indices = lambda pos: [i for i in pos if 0 <= i < len(state)] # noqa lighten up ruff\n",
    "            top3_valid = valid_indices(top3_prior_pos)\n",
    "            middle2_valid = valid_indices(middle2_prior_pos)\n",
    "            bottom3_valid = valid_indices(bottom3_prior_pos)\n",
    "\n",
    "            old_self = state[n - t]\n",
    "            old_live_neighbors = count_trues(state, top3_valid, middle2_valid, bottom3_valid) # this is likely not a fast way to do this\n",
    "\n",
    "```\n",
    "\n",
    "\n",
    "... as we will see, there is an important wrinkle that makes this pseudocode a little bit incorrect, at least if we want to map back to a 2D finite GOL domain.  However, it was apparently a step in the correct direction. "
   ]
  },
  {
   "cell_type": "code",
   "execution_count": null,
   "metadata": {},
   "outputs": [],
   "source": []
  }
 ],
 "metadata": {
  "kernelspec": {
   "display_name": "Python 3",
   "language": "python",
   "name": "python3"
  },
  "language_info": {
   "codemirror_mode": {
    "name": "ipython",
    "version": 3
   },
   "file_extension": ".py",
   "mimetype": "text/x-python",
   "name": "python",
   "nbconvert_exporter": "python",
   "pygments_lexer": "ipython3",
   "version": "3.12.8"
  }
 },
 "nbformat": 4,
 "nbformat_minor": 2
}
